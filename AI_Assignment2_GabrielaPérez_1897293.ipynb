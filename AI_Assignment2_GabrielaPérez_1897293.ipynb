{
  "nbformat": 4,
  "nbformat_minor": 0,
  "metadata": {
    "colab": {
      "provenance": [],
      "authorship_tag": "ABX9TyM2YwK+tJynzI/AGNxbaTFF",
      "include_colab_link": true
    },
    "kernelspec": {
      "name": "python3",
      "display_name": "Python 3"
    },
    "language_info": {
      "name": "python"
    }
  },
  "cells": [
    {
      "cell_type": "markdown",
      "metadata": {
        "id": "view-in-github",
        "colab_type": "text"
      },
      "source": [
        "<a href=\"https://colab.research.google.com/github/GabyyHdz/IA/blob/main/AI_Assignment2_GabrielaP%C3%A9rez_1897293.ipynb\" target=\"_parent\"><img src=\"https://colab.research.google.com/assets/colab-badge.svg\" alt=\"Open In Colab\"/></a>"
      ]
    },
    {
      "cell_type": "markdown",
      "source": [
        "# A2: Python Exercises \n",
        "**Name:** Ana Gabriela Pérez Hernández   \n",
        "**Student number:** 1897293   \n",
        "**Class time:** N4-N6"
      ],
      "metadata": {
        "id": "C95qw4uvg-Mr"
      }
    },
    {
      "cell_type": "markdown",
      "source": [
        "1. Create a python script where the user is going to be asked for the name. After that, the program will greet the user with the given name. Only exception: the script will not greet the user if the given name is \"Ana\", \"John\" or \"Peter\"."
      ],
      "metadata": {
        "id": "8kdrol57iDDv"
      }
    },
    {
      "cell_type": "code",
      "source": [
        "Greet = input(\"Write your name: \")\n",
        "if Greet==\"Ana\": \n",
        "  print(\"Error!\")\n",
        "elif Greet==\"John\": \n",
        "  print(\"Error!\")\n",
        "elif Greet==\"Peter\": \n",
        "  print(\"Error!\")\n",
        "else:\n",
        "  print(\"Hi \" + Greet + \"!\")"
      ],
      "metadata": {
        "colab": {
          "base_uri": "https://localhost:8080/"
        },
        "id": "Vd-V0bNJmQYi",
        "outputId": "e22dcf49-4554-4473-f7fd-9adf8c20ded8"
      },
      "execution_count": 32,
      "outputs": [
        {
          "output_type": "stream",
          "name": "stdout",
          "text": [
            "Write your name: Ana\n",
            "Error!\n"
          ]
        }
      ]
    },
    {
      "cell_type": "markdown",
      "source": [
        "2. Create a function in a pyhton script that returns (print) the last element of a given list, reverts the order of the list and finally returns (print) the reverted list. "
      ],
      "metadata": {
        "id": "YAw3_cuQizKm"
      }
    },
    {
      "cell_type": "code",
      "source": [
        "# First we are going to create a function and make a list about clothes  \n",
        "def Clothes_function(Clothes):\n",
        "  Clothes = [\"sweater\", \"jeans\", \"dress\", \"short\", \"shirt\"]\n",
        "\n",
        "# Now, we are going to create a function that returns the last element \n",
        "print(Clothes[-1])\n",
        "\n",
        "# Finally, we are going to revert the order of the list\n",
        "Clothes.reverse()\n",
        "print(Clothes)"
      ],
      "metadata": {
        "colab": {
          "base_uri": "https://localhost:8080/"
        },
        "id": "u1ZXn6EEmYMm",
        "outputId": "195a3e41-1681-4521-e66f-108fdd010540"
      },
      "execution_count": 46,
      "outputs": [
        {
          "output_type": "stream",
          "name": "stdout",
          "text": [
            "shirt\n",
            "['shirt', 'short', 'dress', 'jeans', 'sweater']\n"
          ]
        }
      ]
    },
    {
      "cell_type": "markdown",
      "source": [
        "3. Create a function in a python script that takes a list of strings as input and then it prints, line by line, the whole list in a rectangular shape. E.g., the list could be [\"Hi\", \"my\", \"name\", \"is\", \"John\", \"Doe\"] and the final result is:"
      ],
      "metadata": {
        "id": "zQRMNQr8i3X_"
      }
    },
    {
      "cell_type": "code",
      "source": [
        "def print_rectangularsh(list):\n",
        "  sz = max([len(x) for x in list])\n",
        "  print('*' + '*'*sz + '*')\n",
        "  for x in list:\n",
        "    print('*' + x + ' '*(sz - len(x)) + '*')\n",
        "  print('*' + '*'*sz + '*')\n",
        "print_rectangularsh([\" Hi\", \" my\", \" name\", \" is\", \" Gabriela\", \" Hernández \"])"
      ],
      "metadata": {
        "colab": {
          "base_uri": "https://localhost:8080/"
        },
        "id": "jIKeS5IN1UJY",
        "outputId": "eb941743-1d19-46a4-8797-2158718c8fde"
      },
      "execution_count": 53,
      "outputs": [
        {
          "output_type": "stream",
          "name": "stdout",
          "text": [
            "*************\n",
            "* Hi        *\n",
            "* my        *\n",
            "* name      *\n",
            "* is        *\n",
            "* Gabriela  *\n",
            "* Hernández *\n",
            "*************\n"
          ]
        }
      ]
    }
  ]
}